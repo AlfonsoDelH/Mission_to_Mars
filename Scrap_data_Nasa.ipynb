{
 "cells": [
  {
   "cell_type": "code",
   "execution_count": 1,
   "metadata": {},
   "outputs": [],
   "source": [
    "from splinter import Browser\n",
    "#from splinter.exceptions import ElementDoesNotExist\n",
    "from bs4 import BeautifulSoup as bs\n",
    "import requests"
   ]
  },
  {
   "cell_type": "code",
   "execution_count": 2,
   "metadata": {},
   "outputs": [],
   "source": [
    "executable_path = {'executable_path': 'chromedriver.exe'}\n",
    "browser = Browser('chrome', **executable_path, headless=False)"
   ]
  },
  {
   "cell_type": "code",
   "execution_count": 3,
   "metadata": {},
   "outputs": [],
   "source": [
    "url='https://mars.nasa.gov/news/'\n",
    "browser.is_element_not_present_by_css('div.content_title', wait_time=None)\n",
    "browser.visit(url)\n",
    "html_last = browser.html\n",
    "soup=bs(html_last,'html.parser')\n",
    "articles_titles=soup.find_all('div', class_='content_title')\n",
    "for a in articles_titles:\n",
    "    title=a.find('a').text\n",
    "teaser=soup.find('div', class_='article_teaser_body').text"
   ]
  },
  {
   "cell_type": "code",
   "execution_count": 16,
   "metadata": {},
   "outputs": [],
   "source": [
    "url = 'https://www.jpl.nasa.gov/spaceimages/?search=&category=Mars'\n",
    "browser.visit(url)\n",
    "response=requests.get(url)\n",
    "soup=bs(response.text,'html.parser')\n",
    "\n",
    "featured_image=str(soup.find('div',class_='carousel_items'))\n",
    "ft_url1=featured_image.split('url(\\'/')[1]\n",
    "ft_url2=ft_url1.split(');\">\\n<div class')[0][:-1]\n",
    "pre_ft_url='https://www.jpl.nasa.gov/'\n",
    "\n",
    "ft_url=pre_ft_url+ft_url2"
   ]
  },
  {
   "cell_type": "code",
   "execution_count": 5,
   "metadata": {},
   "outputs": [],
   "source": [
    "url = 'https://twitter.com/marswxreport?lang=en'\n",
    "browser.visit(url)\n",
    "response=requests.get(url)\n",
    "soup=bs(response.text,'html.parser')\n",
    "last_tweet=soup.find_all('div', class_='js-tweet-text-container')\n",
    "weather_tweets=[]\n",
    "for l in last_tweet:\n",
    "    if \"InSight sol\" in l.text:\n",
    "        weather_tweets.append(l.text.replace('\\n',' '))\n",
    "mars_weather=weather_tweets[0]"
   ]
  },
  {
   "cell_type": "code",
   "execution_count": 6,
   "metadata": {},
   "outputs": [],
   "source": [
    "import pandas as pd\n",
    "url='https://space-facts.com/mars/'\n",
    "tables = pd.read_html(url)\n",
    "fact_table=tables[1]\n",
    "fact_table.columns=['Description','Value']\n",
    "fact_table=fact_table.set_index('Description')\n",
    "html_table=fact_table.to_html()"
   ]
  },
  {
   "cell_type": "code",
   "execution_count": 7,
   "metadata": {},
   "outputs": [],
   "source": [
    "hemisphere_image_urls = [\n",
    "    {\"title\": \"Valles Marineris Hemisphere\", \"img_url\": \"https://astropedia.astrogeology.usgs.gov/download/Mars/Viking/cerberus_enhanced.tif/full.jpg\"},\n",
    "    {\"title\": \"Cerberus Hemisphere\", \"img_url\": \"https://astropedia.astrogeology.usgs.gov/download/Mars/Viking/cerberus_enhanced.tif/full.jpg\"},\n",
    "    {\"title\": \"Schiaparelli Hemisphere\", \"img_url\": \"https://astropedia.astrogeology.usgs.gov/download/Mars/Viking/schiaparelli_enhanced.tif/full.jpg\"},\n",
    "    {\"title\": \"Syrtis Major Hemisphere\", \"img_url\": \"https://astropedia.astrogeology.usgs.gov/download/Mars/Viking/syrtis_major_enhanced.tif/full.jpg\"},\n",
    "]"
   ]
  },
  {
   "cell_type": "code",
   "execution_count": null,
   "metadata": {},
   "outputs": [],
   "source": []
  }
 ],
 "metadata": {
  "kernelspec": {
   "display_name": "Python 3",
   "language": "python",
   "name": "python3"
  },
  "language_info": {
   "codemirror_mode": {
    "name": "ipython",
    "version": 3
   },
   "file_extension": ".py",
   "mimetype": "text/x-python",
   "name": "python",
   "nbconvert_exporter": "python",
   "pygments_lexer": "ipython3",
   "version": "3.7.3"
  }
 },
 "nbformat": 4,
 "nbformat_minor": 2
}
